{
 "cells": [
  {
   "cell_type": "code",
   "execution_count": null,
   "id": "014242ce-4272-452e-a517-164c99ceffac",
   "metadata": {},
   "outputs": [],
   "source": [
    "pip install gspread"
   ]
  },
  {
   "cell_type": "code",
   "execution_count": null,
   "id": "38c7daff-e650-4213-8106-399279d10858",
   "metadata": {},
   "outputs": [],
   "source": [
    "import gspread\n",
    "import pandas as pd"
   ]
  },
  {
   "cell_type": "code",
   "execution_count": null,
   "id": "fa9c12ed-fe1e-413f-baa9-eae7a188cc57",
   "metadata": {},
   "outputs": [],
   "source": [
    "key = '1Y6UrdIydKzlUkqwhU5SWg3MmPKNQs5uJ-sXxTCL-1r8'\n",
    "worksheet_index = 0\n",
    "output_path = 'Source Files/Offshore Wind Job Titles_May 2024.csv'"
   ]
  },
  {
   "cell_type": "code",
   "execution_count": null,
   "id": "e7677df1-4604-4665-a12c-7eb07a38c52e",
   "metadata": {},
   "outputs": [],
   "source": [
    "gc = gspread.service_account(filename='../julius-serviceaccount.json')"
   ]
  },
  {
   "cell_type": "code",
   "execution_count": null,
   "id": "fa05bd4f-e6c0-4045-8756-bb0459495e45",
   "metadata": {},
   "outputs": [],
   "source": [
    "sh = gc.open_by_key(key)"
   ]
  },
  {
   "cell_type": "code",
   "execution_count": null,
   "id": "aeef4124-f776-4d0f-a243-cd11c104f72f",
   "metadata": {},
   "outputs": [],
   "source": [
    "worksheet = sh.get_worksheet(worksheet_index)\n",
    "data = worksheet.get_all_records()"
   ]
  },
  {
   "cell_type": "code",
   "execution_count": null,
   "id": "2ef10077-e346-4a2c-bfb9-5d4320f4da52",
   "metadata": {},
   "outputs": [],
   "source": [
    "df = pd.DataFrame(data)\n",
    "print (df.shape)\n",
    "print (df.columns)\n",
    "df.head(3)"
   ]
  },
  {
   "cell_type": "code",
   "execution_count": null,
   "id": "1edf2d4d-3e8f-44cf-a28d-a8c1119210ec",
   "metadata": {},
   "outputs": [],
   "source": [
    "df.to_csv(output_path,index=False)"
   ]
  }
 ],
 "metadata": {
  "kernelspec": {
   "display_name": "Python 3 (ipykernel)",
   "language": "python",
   "name": "python3"
  },
  "language_info": {
   "codemirror_mode": {
    "name": "ipython",
    "version": 3
   },
   "file_extension": ".py",
   "mimetype": "text/x-python",
   "name": "python",
   "nbconvert_exporter": "python",
   "pygments_lexer": "ipython3",
   "version": "3.10.13"
  }
 },
 "nbformat": 4,
 "nbformat_minor": 5
}
