{
 "cells": [
  {
   "cell_type": "code",
   "execution_count": 2,
   "id": "014242ce-4272-452e-a517-164c99ceffac",
   "metadata": {},
   "outputs": [],
   "source": [
    "%%capture\n",
    "pip install gspread"
   ]
  },
  {
   "cell_type": "code",
   "execution_count": 7,
   "id": "3919ff18-8d55-480c-aa87-960db0e9d018",
   "metadata": {},
   "outputs": [
    {
     "data": {
      "text/plain": [
       "'/home/sagemaker-user/julius-clientwork/nrel/notebooks'"
      ]
     },
     "execution_count": 7,
     "metadata": {},
     "output_type": "execute_result"
    }
   ],
   "source": [
    "import os\n",
    "\n",
    "os.getcwd()"
   ]
  },
  {
   "cell_type": "code",
   "execution_count": 3,
   "id": "38c7daff-e650-4213-8106-399279d10858",
   "metadata": {},
   "outputs": [],
   "source": [
    "import gspread\n",
    "import pandas as pd"
   ]
  },
  {
   "cell_type": "code",
   "execution_count": 22,
   "id": "fa9c12ed-fe1e-413f-baa9-eae7a188cc57",
   "metadata": {},
   "outputs": [],
   "source": [
    "key = '11EBHdbrm17-HyujK76vBUy_7pLuXKzmMjbAK3Frm_wk'\n",
    "worksheet_index = 0\n",
    "output_path = '../data/raw/job_titles_to_run_june2024.csv'"
   ]
  },
  {
   "cell_type": "code",
   "execution_count": 8,
   "id": "e7677df1-4604-4665-a12c-7eb07a38c52e",
   "metadata": {},
   "outputs": [],
   "source": [
    "gc = gspread.service_account(filename='../../credentials/julius-serviceaccount.json')"
   ]
  },
  {
   "cell_type": "code",
   "execution_count": 9,
   "id": "fa05bd4f-e6c0-4045-8756-bb0459495e45",
   "metadata": {},
   "outputs": [],
   "source": [
    "sh = gc.open_by_key(key)"
   ]
  },
  {
   "cell_type": "code",
   "execution_count": 10,
   "id": "aeef4124-f776-4d0f-a243-cd11c104f72f",
   "metadata": {},
   "outputs": [],
   "source": [
    "worksheet = sh.get_worksheet(worksheet_index)\n",
    "data = worksheet.get_all_records()"
   ]
  },
  {
   "cell_type": "code",
   "execution_count": 13,
   "id": "2ef10077-e346-4a2c-bfb9-5d4320f4da52",
   "metadata": {},
   "outputs": [
    {
     "name": "stdout",
     "output_type": "stream",
     "text": [
      "(79, 3)\n",
      "Index(['Job Title', 'Alternative Job Titles', 'Description keywords'], dtype='object')\n"
     ]
    },
    {
     "data": {
      "text/html": [
       "<div>\n",
       "<style scoped>\n",
       "    .dataframe tbody tr th:only-of-type {\n",
       "        vertical-align: middle;\n",
       "    }\n",
       "\n",
       "    .dataframe tbody tr th {\n",
       "        vertical-align: top;\n",
       "    }\n",
       "\n",
       "    .dataframe thead th {\n",
       "        text-align: right;\n",
       "    }\n",
       "</style>\n",
       "<table border=\"1\" class=\"dataframe\">\n",
       "  <thead>\n",
       "    <tr style=\"text-align: right;\">\n",
       "      <th></th>\n",
       "      <th>Job Title</th>\n",
       "      <th>Alternative Job Titles</th>\n",
       "      <th>Description keywords</th>\n",
       "    </tr>\n",
       "  </thead>\n",
       "  <tbody>\n",
       "    <tr>\n",
       "      <th>0</th>\n",
       "      <td>architectural manager</td>\n",
       "      <td>design manager\\nconstruction manager\\nInfrastr...</td>\n",
       "      <td>\"wind energy\" OR \"offshore wind\" OR \"wind powe...</td>\n",
       "    </tr>\n",
       "    <tr>\n",
       "      <th>1</th>\n",
       "      <td>armoring technician</td>\n",
       "      <td>Armor Operator\\nCable Operator</td>\n",
       "      <td>\"wind energy\" OR \"offshore wind\" OR \"wind powe...</td>\n",
       "    </tr>\n",
       "    <tr>\n",
       "      <th>2</th>\n",
       "      <td>bearing engineer</td>\n",
       "      <td>Application Engineer\\nMechanical Design Engine...</td>\n",
       "      <td>\"wind energy\" OR \"offshore wind\" OR \"wind powe...</td>\n",
       "    </tr>\n",
       "  </tbody>\n",
       "</table>\n",
       "</div>"
      ],
      "text/plain": [
       "               Job Title                             Alternative Job Titles  \\\n",
       "0  architectural manager  design manager\\nconstruction manager\\nInfrastr...   \n",
       "1    armoring technician                     Armor Operator\\nCable Operator   \n",
       "2       bearing engineer  Application Engineer\\nMechanical Design Engine...   \n",
       "\n",
       "                                Description keywords  \n",
       "0  \"wind energy\" OR \"offshore wind\" OR \"wind powe...  \n",
       "1  \"wind energy\" OR \"offshore wind\" OR \"wind powe...  \n",
       "2  \"wind energy\" OR \"offshore wind\" OR \"wind powe...  "
      ]
     },
     "execution_count": 13,
     "metadata": {},
     "output_type": "execute_result"
    }
   ],
   "source": [
    "df = pd.DataFrame(data)\n",
    "print (df.shape)\n",
    "print (df.columns)\n",
    "df.head(3)"
   ]
  },
  {
   "cell_type": "raw",
   "id": "feb75c88-3863-4c7d-9dd3-49f6d7652756",
   "metadata": {},
   "source": [
    "# Transformation\n",
    "df = pd.DataFrame(data)\n",
    "df['Alternative Job Titles'] = df['Alternative Job Titles'].apply(lambda x: x.split('\\n'))\n",
    "df = df.explode('Alternative Job Titles', ignore_index=True)\n",
    "df['Alternative Job Titles'] = df['Alternative Job Titles'].apply(lambda x: x.lower())\n",
    "df.tail()"
   ]
  },
  {
   "cell_type": "code",
   "execution_count": 23,
   "id": "1edf2d4d-3e8f-44cf-a28d-a8c1119210ec",
   "metadata": {},
   "outputs": [],
   "source": [
    "df.to_csv(output_path,index=False)"
   ]
  }
 ],
 "metadata": {
  "kernelspec": {
   "display_name": "Python 3 (ipykernel)",
   "language": "python",
   "name": "python3"
  },
  "language_info": {
   "codemirror_mode": {
    "name": "ipython",
    "version": 3
   },
   "file_extension": ".py",
   "mimetype": "text/x-python",
   "name": "python",
   "nbconvert_exporter": "python",
   "pygments_lexer": "ipython3",
   "version": "3.10.14"
  }
 },
 "nbformat": 4,
 "nbformat_minor": 5
}
