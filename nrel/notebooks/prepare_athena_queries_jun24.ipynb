{
 "cells": [
  {
   "cell_type": "code",
   "execution_count": 2,
   "id": "d6e5580f-6481-4170-804a-0c18608543f3",
   "metadata": {},
   "outputs": [],
   "source": [
    "import pandas as pd"
   ]
  },
  {
   "cell_type": "code",
   "execution_count": 4,
   "id": "5bb5101d-9a5c-4d2c-a668-c3bbf9ac0176",
   "metadata": {},
   "outputs": [
    {
     "data": {
      "text/html": [
       "<div>\n",
       "<style scoped>\n",
       "    .dataframe tbody tr th:only-of-type {\n",
       "        vertical-align: middle;\n",
       "    }\n",
       "\n",
       "    .dataframe tbody tr th {\n",
       "        vertical-align: top;\n",
       "    }\n",
       "\n",
       "    .dataframe thead th {\n",
       "        text-align: right;\n",
       "    }\n",
       "</style>\n",
       "<table border=\"1\" class=\"dataframe\">\n",
       "  <thead>\n",
       "    <tr style=\"text-align: right;\">\n",
       "      <th></th>\n",
       "      <th>job_title</th>\n",
       "      <th>alternative_job_title</th>\n",
       "      <th>description_keywords</th>\n",
       "    </tr>\n",
       "  </thead>\n",
       "  <tbody>\n",
       "    <tr>\n",
       "      <th>0</th>\n",
       "      <td>architectural manager</td>\n",
       "      <td>design manager</td>\n",
       "      <td>\"wind energy\" OR \"offshore wind\" OR \"wind powe...</td>\n",
       "    </tr>\n",
       "    <tr>\n",
       "      <th>1</th>\n",
       "      <td>architectural manager</td>\n",
       "      <td>construction manager</td>\n",
       "      <td>\"wind energy\" OR \"offshore wind\" OR \"wind powe...</td>\n",
       "    </tr>\n",
       "    <tr>\n",
       "      <th>2</th>\n",
       "      <td>architectural manager</td>\n",
       "      <td>infrastructure manager</td>\n",
       "      <td>\"wind energy\" OR \"offshore wind\" OR \"wind powe...</td>\n",
       "    </tr>\n",
       "    <tr>\n",
       "      <th>3</th>\n",
       "      <td>armoring technician</td>\n",
       "      <td>armor operator</td>\n",
       "      <td>\"wind energy\" OR \"offshore wind\" OR \"wind powe...</td>\n",
       "    </tr>\n",
       "    <tr>\n",
       "      <th>4</th>\n",
       "      <td>armoring technician</td>\n",
       "      <td>cable operator</td>\n",
       "      <td>\"wind energy\" OR \"offshore wind\" OR \"wind powe...</td>\n",
       "    </tr>\n",
       "  </tbody>\n",
       "</table>\n",
       "</div>"
      ],
      "text/plain": [
       "               job_title   alternative_job_title  \\\n",
       "0  architectural manager          design manager   \n",
       "1  architectural manager    construction manager   \n",
       "2  architectural manager  infrastructure manager   \n",
       "3    armoring technician          armor operator   \n",
       "4    armoring technician          cable operator   \n",
       "\n",
       "                                description_keywords  \n",
       "0  \"wind energy\" OR \"offshore wind\" OR \"wind powe...  \n",
       "1  \"wind energy\" OR \"offshore wind\" OR \"wind powe...  \n",
       "2  \"wind energy\" OR \"offshore wind\" OR \"wind powe...  \n",
       "3  \"wind energy\" OR \"offshore wind\" OR \"wind powe...  \n",
       "4  \"wind energy\" OR \"offshore wind\" OR \"wind powe...  "
      ]
     },
     "execution_count": 4,
     "metadata": {},
     "output_type": "execute_result"
    }
   ],
   "source": [
    "data = pd.read_csv('../data/raw/job_titles_to_run_june2024.csv')\n",
    "columns = ['job_title','alternative_job_title','description_keywords']\n",
    "data.columns = columns\n",
    "data.head()"
   ]
  },
  {
   "cell_type": "code",
   "execution_count": 18,
   "id": "a45b5267-ef1b-434f-ab06-d598a545da1d",
   "metadata": {},
   "outputs": [
    {
     "data": {
      "text/plain": [
       "['\"wind energy\" OR \"offshore wind\" OR \"wind power\" OR \"wind project\" AND \"drill\"',\n",
       " '\"wind energy\" OR \"wind power\" OR \"wind project\" AND \"steel\"',\n",
       " '\"wind energy\" OR \"offshore wind\" OR \"wind power\" OR \"wind project\" AND \"bearing\"',\n",
       " '\"wind energy\" OR \"offshore wind\" OR \"wind power\" OR \"wind project\" AND \"composite\" AND \"blade\"',\n",
       " '\"wind energy\" OR \"offshore wind\" OR \"wind power\" OR \"wind project\" AND \"laser\"',\n",
       " '\"wind energy\" OR \"offshore wind\" OR \"wind power\" OR \"wind project\" AND \"composite\"',\n",
       " '\"wind energy\" OR \"offshore wind\" OR \"wind power\" OR \"wind project\" AND \"heavy\"',\n",
       " '\"wind energy\" OR \"offshore wind\" OR \"wind power\" OR \"wind project\" AND \"coil\"',\n",
       " nan,\n",
       " '\"wind energy\" OR \"offshore wind\" OR \"wind power\" OR \"wind project\"',\n",
       " '\"wind energy\" OR \"offshore wind\" OR \"wind power\" OR \"wind project\" AND \"blade\" AND \"test\"',\n",
       " '\"wind energy\" OR \"offshore wind\" OR \"wind power\" OR \"wind project\"  AND \"repair\" AND \"install\" AND \"maintain\"',\n",
       " '\"wind energy\" OR \"offshore wind\" OR \"wind power\" OR \"wind project\" AND \"blade\"']"
      ]
     },
     "execution_count": 18,
     "metadata": {},
     "output_type": "execute_result"
    }
   ],
   "source": [
    "description_keywords = list(set(data.description_keywords))\n",
    "description_keywords"
   ]
  },
  {
   "cell_type": "code",
   "execution_count": 21,
   "id": "8ed2ebf7-6f14-4bb1-bd53-390d76ec767f",
   "metadata": {},
   "outputs": [
    {
     "name": "stdout",
     "output_type": "stream",
     "text": [
      "\"wind energy\" OR \"offshore wind\" OR \"wind power\" OR \"wind project\" AND \"laser\"\n",
      "107    laser operator\n",
      "108    laser operator\n",
      "109    laser operator\n",
      "Name: job_title, dtype: object\n",
      "107      operator\n",
      "108    technician\n",
      "109      mechanic\n",
      "Name: alternative_job_title, dtype: object\n"
     ]
    }
   ],
   "source": [
    "n = 4\n",
    "\n",
    "description_keywords = list(set(data.description_keywords))\n",
    "job_titles = data['job_title'][data['description_keywords'] == description_keywords[n]]\n",
    "alternative_job_titles = data['alternative_job_title'][data['description_keywords'] == description_keywords[n]]\n",
    "print(description_keywords[n])\n",
    "print(job_titles)\n",
    "print(alternative_job_titles)"
   ]
  },
  {
   "cell_type": "code",
   "execution_count": 22,
   "id": "0c0549be-ad52-4eb4-b7f2-ebbe5488ac2c",
   "metadata": {},
   "outputs": [
    {
     "data": {
      "text/plain": [
       "['laser%operator']"
      ]
     },
     "execution_count": 22,
     "metadata": {},
     "output_type": "execute_result"
    }
   ],
   "source": [
    "job_titles_norm = [job_title.lower().strip().replace(\" \", \"%\")\n",
    "                   for job_title in list(set(job_titles))]\n",
    "job_titles_norm[:5]"
   ]
  },
  {
   "cell_type": "code",
   "execution_count": 23,
   "id": "ca21c865-771d-4891-b534-4c34f3c31061",
   "metadata": {},
   "outputs": [
    {
     "data": {
      "text/plain": [
       "['operator', 'mechanic', 'technician']"
      ]
     },
     "execution_count": 23,
     "metadata": {},
     "output_type": "execute_result"
    }
   ],
   "source": [
    "alt_job_titles_norm = [job_title.lower().strip().replace(\" \", \"%\")\n",
    "                       for job_title in list(set(alternative_job_titles))]\n",
    "alt_job_titles_norm[:]"
   ]
  },
  {
   "cell_type": "markdown",
   "id": "415c2bcd-ede2-4dd6-aa2d-458eaa4effc1",
   "metadata": {},
   "source": [
    "#### INDEED"
   ]
  },
  {
   "cell_type": "code",
   "execution_count": 46,
   "id": "bdbe749b-93ba-4b79-a525-bc56c7a9238e",
   "metadata": {},
   "outputs": [
    {
     "name": "stdout",
     "output_type": "stream",
     "text": [
      "CREATE TABLE jobposts_indeed_NRELIndeedMayAlternative_usa_forever_fourkeywordsindescription\n",
      "WITH (\n",
      "      format = 'Parquet',\n",
      "      parquet_compression = 'SNAPPY',\n",
      "      external_location = 's3://julius-job-classifier/NRELIndeedMayAlternative'\n",
      ") AS\n",
      "SELECT source,object,created_at_date,updated_at_date,version_id,is_deleted,doc_id,doc_title,doc_source_id,doc_url,doc_company_id,doc_company,doc_location,doc_description,doc_expired,doc_indeed_origin_country,doc_qualifications,doc_salary,doc_benefits FROM \"AwsDataCatalog\".\"julius-indeed-db\".\"202401\" WHERE doc_url LIKE '%https://www.%' AND (LOWER (doc_title) LIKE '%demand%planner%' OR LOWER (doc_title) LIKE '%receptionist%' OR LOWER (doc_title) LIKE '%budget%planner%' OR LOWER (doc_title) LIKE '%legal%researcher%' OR LOWER (doc_title) LIKE '%corporate%services%manager%' OR LOWER (doc_title) LIKE '%metal%building%engineer%' OR LOWER (doc_title) LIKE '%shipping%and%receiving%clerk%' OR LOWER (doc_title) LIKE '%transportation%coordinator%' OR LOWER (doc_title) LIKE '%welder-fabricator%' OR LOWER (doc_title) LIKE '%property%maintenance%manager%' OR LOWER (doc_title) LIKE '%plastics%process%engineer%' OR LOWER (doc_title) LIKE '%quality%control%engineer%(steel%manufacturing)%' OR LOWER (doc_title) LIKE '%accounting%manager%' OR LOWER (doc_title) LIKE '%composite%manufacturing%engineer%' OR LOWER (doc_title) LIKE '%talent%acquisition%specialist%' OR LOWER (doc_title) LIKE '%wind%turbine%blade%tester%' OR LOWER (doc_title) LIKE '%insurance%account%manager%' OR LOWER (doc_title) LIKE '%mold%maker%' OR LOWER (doc_title) LIKE '%materials%engineer%' OR LOWER (doc_title) LIKE '%materials%manager%' OR LOWER (doc_title) LIKE '%qa%manager%' OR LOWER (doc_title) LIKE '%freight%driver%' OR LOWER (doc_title) LIKE '%account%manager%' OR LOWER (doc_title) LIKE '%concrete%reinforcement%specialist%' OR LOWER (doc_title) LIKE '%metal%shaper%' OR LOWER (doc_title) LIKE '%metalworking%fabricator%' OR LOWER (doc_title) LIKE '%business%analyst%' OR LOWER (doc_title) LIKE '%blade%performance%analyst%' OR LOWER (doc_title) LIKE '%director%of%finance%' OR LOWER (doc_title) LIKE '%production%machinery%mechanic%' OR LOWER (doc_title) LIKE '%treasury%manager%' OR LOWER (doc_title) LIKE '%people%operations%manager%' OR LOWER (doc_title) LIKE '%steel%plant%operations%engineer%' OR LOWER (doc_title) LIKE '%metal%bending%machine%setter%' OR LOWER (doc_title) LIKE '%equipment%repair%technician%' OR LOWER (doc_title) LIKE '%specialist%coating%applier%' OR LOWER (doc_title) LIKE '%tower%project%engineer%' OR LOWER (doc_title) LIKE '%sheet%metal%rolling%operator%' OR LOWER (doc_title) LIKE '%communications%director%' OR LOWER (doc_title) LIKE '%thermoplastic%materials%scientist%' OR LOWER (doc_title) LIKE '%metal%structure%assembler%' OR LOWER (doc_title) LIKE '%logistics%assistant%' OR LOWER (doc_title) LIKE '%legal%secretary%' OR LOWER (doc_title) LIKE '%fiberglass%production%technician%' OR LOWER (doc_title) LIKE '%technical%communicator%' OR LOWER (doc_title) LIKE '%benefits%administrator%' OR LOWER (doc_title) LIKE '%telecommunications%tower%engineer%' OR LOWER (doc_title) LIKE '%systems%analyst%' OR LOWER (doc_title) LIKE '%recordkeeping%administrator%' OR LOWER (doc_title) LIKE '%blade%system%engineer%' OR LOWER (doc_title) LIKE '%marketing%communications%specialist%' OR LOWER (doc_title) LIKE '%elevator%and%lift%technician%' OR LOWER (doc_title) LIKE '%accounts%receivable/payable%clerk%' OR LOWER (doc_title) LIKE '%inventory%control%specialist%' OR LOWER (doc_title) LIKE '%materials%technologist%' OR LOWER (doc_title) LIKE '%recruitment%coordinator%' OR LOWER (doc_title) LIKE '%hr%generalist%' OR LOWER (doc_title) LIKE '%warehouse%inventory%clerk%' OR LOWER (doc_title) LIKE '%solutions%consultant%' OR LOWER (doc_title) LIKE '%industrial%tractor%operator%' OR LOWER (doc_title) LIKE '%naval%architect%' OR LOWER (doc_title) LIKE '%instructional%writer%' OR LOWER (doc_title) LIKE '%mechanical%service%specialist%' OR LOWER (doc_title) LIKE '%fiberglass%laminator%' OR LOWER (doc_title) LIKE '%supply%management%executive%' OR LOWER (doc_title) LIKE '%support%services%manager%' OR LOWER (doc_title) LIKE '%operations%director%' OR LOWER (doc_title) LIKE '%installation%helper%' OR LOWER (doc_title) LIKE '%metal%deburring%operator%' OR LOWER (doc_title) LIKE '%industrial%equipment%technician%' OR LOWER (doc_title) LIKE '%pipe%fitter%' OR LOWER (doc_title) LIKE '%customs%broker%' OR LOWER (doc_title) LIKE '%quality%director%' OR LOWER (doc_title) LIKE '%qa%engineer%' OR LOWER (doc_title) LIKE '%mechanical%designer%' OR LOWER (doc_title) LIKE '%chief%financial%officer/chief%operating%officer%' OR LOWER (doc_title) LIKE '%materials%analyst%' OR LOWER (doc_title) LIKE '%lifting%equipment%operator%' OR LOWER (doc_title) LIKE '%structural%steel%fabrication%specialist%' OR LOWER (doc_title) LIKE '%building%maintenance%coordinator%' OR LOWER (doc_title) LIKE '%rotating%equipment%engineer%' OR LOWER (doc_title) LIKE '%transport%operator%' OR LOWER (doc_title) LIKE '%electrical%contractor%' OR LOWER (doc_title) LIKE '%operations%manager%' OR LOWER (doc_title) LIKE '%legal%assistant%' OR LOWER (doc_title) LIKE '%distribution%supervisor%' OR LOWER (doc_title) LIKE '%junior%facilities%manager%' OR LOWER (doc_title) LIKE '%stakeholder%specialist%' OR LOWER (doc_title) LIKE '%electrical%maintenance%specialist%' OR LOWER (doc_title) LIKE '%warehouse%manager%' OR LOWER (doc_title) LIKE '%offshore%engineer%' OR LOWER (doc_title) LIKE '%repair%helper%' OR LOWER (doc_title) LIKE '%metal%saw%operator%' OR LOWER (doc_title) LIKE '%operations%planner%' OR LOWER (doc_title) LIKE '%fiberglass%fabricator%' OR LOWER (doc_title) LIKE '%material%handling%technician%' OR LOWER (doc_title) LIKE '%metallurgical%process%engineer%' OR LOWER (doc_title) LIKE '%laser%machine%operator%' OR LOWER (doc_title) LIKE '%legal%administrator%' OR LOWER (doc_title) LIKE '%supply%chain%operations%manager%' OR LOWER (doc_title) LIKE '%cnc%operator%' OR LOWER (doc_title) LIKE '%technical%support%engineer%' OR LOWER (doc_title) LIKE '%logistics%coordinator%' OR LOWER (doc_title) LIKE '%communications%coordinator%' OR LOWER (doc_title) LIKE '%machine%operator%' OR LOWER (doc_title) LIKE '%programmer%' OR LOWER (doc_title) LIKE '%housekeeping%attendant%' OR LOWER (doc_title) LIKE '%electrical%maintenance%technician%' OR LOWER (doc_title) LIKE '%construction%equipment%operator%' OR LOWER (doc_title) LIKE '%ironworker%' OR LOWER (doc_title) LIKE '%distribution%coordinator%' OR LOWER (doc_title) LIKE '%marine%engineer%' OR LOWER (doc_title) LIKE '%vice%president%of%finance%' OR LOWER (doc_title) LIKE '%metal%surface%preparer%' OR LOWER (doc_title) LIKE '%director%of%operations%support%' OR LOWER (doc_title) LIKE '%employee%relations%manager%' OR LOWER (doc_title) LIKE '%metal%forming%machine%operator%' OR LOWER (doc_title) LIKE '%chief%financial%strategist%' OR LOWER (doc_title) LIKE '%office%administrator%' OR LOWER (doc_title) LIKE '%distribution%center%manager%' OR LOWER (doc_title) LIKE '%metal%shearer%' OR LOWER (doc_title) LIKE '%well%technician%' OR LOWER (doc_title) LIKE '%vice%president%of%strategy%' OR LOWER (doc_title) LIKE '%maintenance%technician%' OR LOWER (doc_title) LIKE '%application%engineer%' OR LOWER (doc_title) LIKE '%blade%production%supervisor%' OR LOWER (doc_title) LIKE '%tax%preparer/accountant%' OR LOWER (doc_title) LIKE '%application%engineer%(bearings)%' OR LOWER (doc_title) LIKE '%composite%technician%' OR LOWER (doc_title) LIKE '%materials%testing%technician%' OR LOWER (doc_title) LIKE '%development%engineer%' OR LOWER (doc_title) LIKE '%application%developer%' OR LOWER (doc_title) LIKE '%electrical%systems%engineer%' OR LOWER (doc_title) LIKE '%polymer%processing%technologist%' OR LOWER (doc_title) LIKE '%documentation%specialist%' OR LOWER (doc_title) LIKE '%expediting%manager%' OR LOWER (doc_title) LIKE '%structural%composites%engineer%' OR LOWER (doc_title) LIKE '%maintenance%team%leader%' OR LOWER (doc_title) LIKE '%structural%steel%designer%' OR LOWER (doc_title) LIKE '%information%designer%' OR LOWER (doc_title) LIKE '%long-haul%driver%' OR LOWER (doc_title) LIKE '%hoist%operator%' OR LOWER (doc_title) LIKE '%business%development%manager%' OR LOWER (doc_title) LIKE '%maintenance%helper%' OR LOWER (doc_title) LIKE '%non-destructive%testing%technician%' OR LOWER (doc_title) LIKE '%laser%production%operator%' OR LOWER (doc_title) LIKE '%metal%polishing%specialist%' OR LOWER (doc_title) LIKE '%ceo%of%strategy%and%operations%' OR LOWER (doc_title) LIKE '%steel%fixer%' OR LOWER (doc_title) LIKE '%tool%and%die%maker%' OR LOWER (doc_title) LIKE '%budget%analyst%' OR LOWER (doc_title) LIKE '%renewable%energy%engineer%' OR LOWER (doc_title) LIKE '%technical%illustrator%' OR LOWER (doc_title) LIKE '%weld%inspection%technician%' OR LOWER (doc_title) LIKE '%information%security%manager%' OR LOWER (doc_title) LIKE '%insurance%consultant%' OR LOWER (doc_title) LIKE '%instrumentation%engineer%' OR LOWER (doc_title) LIKE '%machine%repair%technician%' OR LOWER (doc_title) LIKE '%data%entry%specialist%' OR LOWER (doc_title) LIKE '%coil%winder%' OR LOWER (doc_title) LIKE '%heavy%equipment%operations%supervisor%' OR LOWER (doc_title) LIKE '%control%systems%engineer%' OR LOWER (doc_title) LIKE '%hoist%technician%' OR LOWER (doc_title) LIKE '%director%of%quality%support%' OR LOWER (doc_title) LIKE '%precision%machinist%' OR LOWER (doc_title) LIKE '%architectural%metal%engineer%' OR LOWER (doc_title) LIKE '%composite%materials%technician%' OR LOWER (doc_title) LIKE '%repair%worker%' OR LOWER (doc_title) LIKE '%operations%coordinator%' OR LOWER (doc_title) LIKE '%crane%operator%' OR LOWER (doc_title) LIKE '%inventory%control%associate%' OR LOWER (doc_title) LIKE '%metal%casting%operator%' OR LOWER (doc_title) LIKE '%sheet%metal%worker%' OR LOWER (doc_title) LIKE '%inventory%specialist%' OR LOWER (doc_title) LIKE '%quality%control%inspector%' OR LOWER (doc_title) LIKE '%heavy%equipment%operator%' OR LOWER (doc_title) LIKE '%mobile%crane%operator%' OR LOWER (doc_title) LIKE '%data%protection%manager%' OR LOWER (doc_title) LIKE '%design%engineer%' OR LOWER (doc_title) LIKE '%metal%smelter%' OR LOWER (doc_title) LIKE '%fulfillment%team%member%' OR LOWER (doc_title) LIKE '%boilermaker%' OR LOWER (doc_title) LIKE '%business%services%manager%' OR LOWER (doc_title) LIKE '%core%drilling%supervisor%' OR LOWER (doc_title) LIKE '%excavation%specialist%' OR LOWER (doc_title) LIKE '%network%security%manager%' OR LOWER (doc_title) LIKE '%blade%durability%engineer%' OR LOWER (doc_title) LIKE '%staffing%consultant%' OR LOWER (doc_title) LIKE '%warehouse%associate%' OR LOWER (doc_title) LIKE '%materials%science%engineer%' OR LOWER (doc_title) LIKE '%financial%operations%analyst%' OR LOWER (doc_title) LIKE '%industrial%maintenance%mechanic%' OR LOWER (doc_title) LIKE '%document%management%specialist%' OR LOWER (doc_title) LIKE '%rig%operator%' OR LOWER (doc_title) LIKE '%fulfillment%center%director%' OR LOWER (doc_title) LIKE '%composite%manufacturing%specialist%' OR LOWER (doc_title) LIKE '%rigging%specialist%' OR LOWER (doc_title) LIKE '%inventory%manager%' OR LOWER (doc_title) LIKE '%hr%coordinator%' OR LOWER (doc_title) LIKE '%chief%financial%officer/chief%administrative%officer%' OR LOWER (doc_title) LIKE '%quality%control%manager%' OR LOWER (doc_title) LIKE '%project%estimator%' OR LOWER (doc_title) LIKE '%electrical%service%technician%' OR LOWER (doc_title) LIKE '%tribology%engineer%' OR LOWER (doc_title) LIKE '%qc%manager%' OR LOWER (doc_title) LIKE '%metal%forming%technician%' OR LOWER (doc_title) LIKE '%quality%control%engineer%' OR LOWER (doc_title) LIKE '%facilities%operations%coordinator%' OR LOWER (doc_title) LIKE '%technical%sales%representative%' OR LOWER (doc_title) LIKE '%organizational%development%manager%' OR LOWER (doc_title) LIKE '%machinist%' OR LOWER (doc_title) LIKE '%foundry%machine%operator%' OR LOWER (doc_title) LIKE '%administrative%assistant%' OR LOWER (doc_title) LIKE '%production%manager%' OR LOWER (doc_title) LIKE '%wind%turbine%blade%technician%' OR LOWER (doc_title) LIKE '%quality%control%technician%' OR LOWER (doc_title) LIKE '%delivery%driver%' OR LOWER (doc_title) LIKE '%cad%technician%' OR LOWER (doc_title) LIKE '%sourcing%director%' OR LOWER (doc_title) LIKE '%industrial%materials%engineer%' OR LOWER (doc_title) LIKE '%precision%grinder%' OR LOWER (doc_title) LIKE '%law%clerk%' OR LOWER (doc_title) LIKE '%core%infrastructure%engineer%' OR LOWER (doc_title) LIKE '%janitorial%technician%' OR LOWER (doc_title) LIKE '%blasting%applier%' OR LOWER (doc_title) LIKE '%financial%assistant%' OR LOWER (doc_title) LIKE '%warehouse%supervisor%' OR LOWER (doc_title) LIKE '%rigging%supervisor%' OR LOWER (doc_title) LIKE '%factory%equipment%repairer%' OR LOWER (doc_title) LIKE '%electrical%technician%' OR LOWER (doc_title) LIKE '%public%relations%specialist%' OR LOWER (doc_title) LIKE '%polymer%engineer%' OR LOWER (doc_title) LIKE '%blade%server%administrator%' OR LOWER (doc_title) LIKE '%buyer%' OR LOWER (doc_title) LIKE '%scaffolder%' OR LOWER (doc_title) LIKE '%coil%fabricator%' OR LOWER (doc_title) LIKE '%content%developer%' OR LOWER (doc_title) LIKE '%equipment%technician%' OR LOWER (doc_title) LIKE '%supply%chain%coordinator%' OR LOWER (doc_title) LIKE '%construction%steel%technician%' OR LOWER (doc_title) LIKE '%business%development%engineer%' OR LOWER (doc_title) LIKE '%ndt%inspector%' OR LOWER (doc_title) LIKE '%sheet%metal%fabrication%technician%' OR LOWER (doc_title) LIKE '%web%developer%' OR LOWER (doc_title) LIKE '%process%improvement%analyst%' OR LOWER (doc_title) LIKE '%lathe%operator%' OR LOWER (doc_title) LIKE '%insurance%coordinator%' OR LOWER (doc_title) LIKE '%financial%planner%' OR LOWER (doc_title) LIKE '%facility%support%manager%' OR LOWER (doc_title) LIKE '%human%resources%recruiter%' OR LOWER (doc_title) LIKE '%industrial%machinery%supervisor%' OR LOWER (doc_title) LIKE '%customer%success%engineer%' OR LOWER (doc_title) LIKE '%maintenance%worker%' OR LOWER (doc_title) LIKE '%supply%chain%manager%' OR LOWER (doc_title) LIKE '%facilities%manager%' OR LOWER (doc_title) LIKE '%subsea%engineer%' OR LOWER (doc_title) LIKE '%electrical%troubleshooting%specialist%' OR LOWER (doc_title) LIKE '%welding%engineer%' OR LOWER (doc_title) LIKE '%metal%fabrication%specialist%' OR LOWER (doc_title) LIKE '%employee%relations%coordinator%' OR LOWER (doc_title) LIKE '%structural%steel%fabricator%' OR LOWER (doc_title) LIKE '%talent%acquisition%manager%' OR LOWER (doc_title) LIKE '%advanced%materials%engineer%' OR LOWER (doc_title) LIKE '%content%administrator%' OR LOWER (doc_title) LIKE '%coastal%engineer%' OR LOWER (doc_title) LIKE '%business%operations%specialist%' OR LOWER (doc_title) LIKE '%procurement%manager%' OR LOWER (doc_title) LIKE '%architectural%draftsperson%' OR LOWER (doc_title) LIKE '%operations%support%director%' OR LOWER (doc_title) LIKE '%information%management%officer%' OR LOWER (doc_title) LIKE '%materials%chemist%' OR LOWER (doc_title) LIKE '%manufacturing%engineer%' OR LOWER (doc_title) LIKE '%mechanical%design%engineer%(bearings)%' OR LOWER (doc_title) LIKE '%talent%sourcer%' OR LOWER (doc_title) LIKE '%proposal%manager%' OR LOWER (doc_title) LIKE '%records%coordinator%' OR LOWER (doc_title) LIKE '%tower%crane%operator%' OR LOWER (doc_title) LIKE '%metal%laser%cutter%' OR LOWER (doc_title) LIKE '%software%engineer%' OR LOWER (doc_title) LIKE '%metal%fabrication%technician%' OR LOWER (doc_title) LIKE '%accounting%clerk%' OR LOWER (doc_title) LIKE '%cost%analyst%' OR LOWER (doc_title) LIKE '%executive%assistant%' OR LOWER (doc_title) LIKE '%engineering%director%' OR LOWER (doc_title) LIKE '%metal%finishing%technician%' OR LOWER (doc_title) LIKE '%warehouse%operations%coordinator%' OR LOWER (doc_title) LIKE '%construction%estimator%' OR LOWER (doc_title) LIKE '%electrical%field%service%technician%' OR LOWER (doc_title) LIKE '%metal%technician%' OR LOWER (doc_title) LIKE '%qc%engineer%' OR LOWER (doc_title) LIKE '%qa%technician%' OR LOWER (doc_title) LIKE '%field%service%technician%' OR LOWER (doc_title) LIKE '%crane%operations%manager%' OR LOWER (doc_title) LIKE '%sales%coordinator%' OR LOWER (doc_title) LIKE '%coating%specialist%' OR LOWER (doc_title) LIKE '%custodial%worker%' OR LOWER (doc_title) LIKE '%blade%repair%technician%' OR LOWER (doc_title) LIKE '%industrial%mechanic%' OR LOWER (doc_title) LIKE '%financial%controller%' OR LOWER (doc_title) LIKE '%payroll%specialist%' OR LOWER (doc_title) LIKE '%borehole%engineer%' OR LOWER (doc_title) LIKE '%metal%assembler%' OR LOWER (doc_title) LIKE '%rotor%blade%quality%assurance%specialist%' OR LOWER (doc_title) LIKE '%financial%analyst%' OR LOWER (doc_title) LIKE '%injection%molding%engineer%' OR LOWER (doc_title) LIKE '%inventory%control%manager%' OR LOWER (doc_title) LIKE '%metal%grinding%machine%operator%' OR LOWER (doc_title) LIKE '%cnc%machinist%' OR LOWER (doc_title) LIKE '%it%security%manager%' OR LOWER (doc_title) LIKE '%machinery%technician%' OR LOWER (doc_title) LIKE '%metal%construction%engineer%' OR LOWER (doc_title) LIKE '%tower%structural%design%specialist%' OR LOWER (doc_title) LIKE '%tower%construction%engineer%' OR LOWER (doc_title) LIKE '%polymer%composites%engineer%' OR LOWER (doc_title) LIKE '%manufacturing%engineer%(steel%industry)%' OR LOWER (doc_title) LIKE '%rebar%installer%' OR LOWER (doc_title) LIKE '%procurement%specialist%' OR LOWER (doc_title) LIKE '%cybersecurity%operations%manager%' OR LOWER (doc_title) LIKE '%ultrasonic%testing%specialist%' OR LOWER (doc_title) LIKE '%laser%cutting%specialist%' OR LOWER (doc_title) LIKE '%electrical%installer%' OR LOWER (doc_title) LIKE '%operations%supervisor%' OR LOWER (doc_title) LIKE '%workforce%planning%manager%' OR LOWER (doc_title) LIKE '%corrosion%engineer%' OR LOWER (doc_title) LIKE '%blade%platform%specialist%' OR LOWER (doc_title) LIKE '%metal%extractor%' OR LOWER (doc_title) LIKE '%coil%technician%' OR LOWER (doc_title) LIKE '%commercial%driver%' OR LOWER (doc_title) LIKE '%social%media%manager%' OR LOWER (doc_title) LIKE '%reinforcing%ironworker%' OR LOWER (doc_title) LIKE '%supply%chain%technician%' OR LOWER (doc_title) LIKE '%plate%rolling%technician%' OR LOWER (doc_title) LIKE '%metal%purifier%' OR LOWER (doc_title) LIKE '%quantity%surveyor%' OR LOWER (doc_title) LIKE '%press%brake%operator%' OR LOWER (doc_title) LIKE '%metal%alchemist%' OR LOWER (doc_title) LIKE '%qc%technician%' OR LOWER (doc_title) LIKE '%design%drafter%' OR LOWER (doc_title) LIKE '%logistics%supervisor%' OR LOWER (doc_title) LIKE '%office%operations%manager%' OR LOWER (doc_title) LIKE '%quality%assurance%technician%' OR LOWER (doc_title) LIKE '%industrial%inspection%technician%' OR LOWER (doc_title) LIKE '%electronics%engineer%' OR LOWER (doc_title) LIKE '%composite%materials%manager%' OR LOWER (doc_title) LIKE '%core%technology%architect%' OR LOWER (doc_title) LIKE '%sanitation%specialist%' OR LOWER (doc_title) LIKE '%brand%communications%manager%' OR LOWER (doc_title) LIKE '%laser%fabricator%' OR LOWER (doc_title) LIKE '%structural%metal%fabricator%' OR LOWER (doc_title) LIKE '%development%specialist%' OR LOWER (doc_title) LIKE '%insurance%advisor%' OR LOWER (doc_title) LIKE '%marketing%manager%' OR LOWER (doc_title) LIKE '%die%casting%technician%' OR LOWER (doc_title) LIKE '%laser%technician%' OR LOWER (doc_title) LIKE '%insurance%analyst%' OR LOWER (doc_title) LIKE '%masonry%reinforcement%technician%' OR LOWER (doc_title) LIKE '%welder%' OR LOWER (doc_title) LIKE '%supply%chain%analyst%' OR LOWER (doc_title) LIKE '%structural%tower%engineer%' OR LOWER (doc_title) LIKE '%maintenance%assistant%' OR LOWER (doc_title) LIKE '%fiberglass%repair%specialist%' OR LOWER (doc_title) LIKE '%material%handling%supervisor%' OR LOWER (doc_title) LIKE '%wire%coiler%' OR LOWER (doc_title) LIKE '%metal%fabricator%' OR LOWER (doc_title) LIKE '%materials%researcher%' OR LOWER (doc_title) LIKE '%manufacturing%machinery%technician%' OR LOWER (doc_title) LIKE '%composite%technology%director%' OR LOWER (doc_title) LIKE '%power%systems%engineer%' OR LOWER (doc_title) LIKE '%order%filler%' OR LOWER (doc_title) LIKE '%rigging%and%lifting%coordinator%' OR LOWER (doc_title) LIKE '%wind%energy%blade%technician%' OR LOWER (doc_title) LIKE '%coil%assembler%' OR LOWER (doc_title) LIKE '%process%engineer%' OR LOWER (doc_title) LIKE '%blade%production%manager%' OR LOWER (doc_title) LIKE '%metal%melter%' OR LOWER (doc_title) LIKE '%stock%control%coordinator%') AND (LOWER (doc_description) LIKE '%wind%energy%' OR LOWER (doc_description) LIKE '%wind%power%' OR LOWER (doc_description) LIKE '%wind%project%' OR LOWER (doc_description) LIKE '%offshore%wind%') \n",
      "\n"
     ]
    }
   ],
   "source": [
    "# SELECT\n",
    "fields_indeed = [\"source\", \"object\", \"created_at_date\", \"updated_at_date\",\n",
    "                 \"version_id\", \"is_deleted\", \"doc_id\", \"doc_title\",\n",
    "                 \"doc_source_id\", \"doc_url\", \"doc_company_id\",\n",
    "                 \"doc_company\", \"doc_location\", \"doc_description\",\n",
    "                 \"doc_expired\", \"doc_indeed_origin_country\", \"doc_qualifications\",\n",
    "                 \"doc_salary\", \"doc_benefits\"]\n",
    "select_clause_indeed = ','.join(fields_indeed)\n",
    "\n",
    "# FROM: Source details\n",
    "catalog = \"AwsDataCatalog\"\n",
    "database_indeed = \"julius-indeed-db\"\n",
    "table_indeed = \"202401\"\n",
    "source = f'\"{catalog}\".\"{database_indeed}\".\"{table_indeed}\"'\n",
    "\n",
    "# WHERE: conditions\n",
    "job_title_column_name_indeed = 'doc_title'\n",
    "likeness_condition_indeed = ' OR '.join([f\"LOWER ({job_title_column_name_indeed}) LIKE '%{job_title}%'\" for job_title in job_titles_norm])\n",
    "table = \"202401\"\n",
    "table_formatted = f'\"{table}\"'\n",
    "\n",
    "\n",
    "\n",
    "condition_usa_indeed = \"doc_url LIKE '%https://www.%'\"\n",
    "\n",
    "\n",
    "# No change\n",
    "source_indeed = \"indeed\"\n",
    "# What is  being quered \n",
    "concept = \"jobposts\"\n",
    "\n",
    "\n",
    "external_location = f\"s3://{project}/{sub_project}\"\n",
    "# Specify the correct filtering criteria\n",
    "location = \"usa\"\n",
    "time = \"forever\"\n",
    "\n",
    "output_indeed = f\"{concept}_{source_indeed}_{sub_project}_{location}_{time}_{obs}\"\n",
    "\n",
    "\n",
    "# SQL query for indeed\n",
    "query_indeed = f'SELECT {select_clause_indeed} FROM {source} WHERE {condition_usa_indeed} AND ({likeness_condition_indeed}) AND ({condition_description}) '\n",
    "\n",
    "\n",
    "# Query for indeed\n",
    "query_indeed_parquet = f\"\"\"CREATE TABLE {output_indeed}\n",
    "WITH (\n",
    "      format = 'Parquet',\n",
    "      parquet_compression = 'SNAPPY',\n",
    "      external_location = '{external_location}'\n",
    ") AS\n",
    "{query_indeed}\n",
    "\"\"\"\n",
    "\n",
    "print(query_indeed_parquet)"
   ]
  },
  {
   "cell_type": "code",
   "execution_count": 37,
   "id": "76c0390f-c4fd-4c08-bd2e-044589da474f",
   "metadata": {},
   "outputs": [
    {
     "name": "stdout",
     "output_type": "stream",
     "text": [
      "CREATE TABLE jobposts_linkedin_NRELIndeedMay_usa_forever_windindescription\n",
      "WITH (\n",
      "      format = 'Parquet',\n",
      "      parquet_compression = 'SNAPPY',\n",
      "      external_location = 's3://julius-job-classifier/NRELIndeedMay'\n",
      ") AS\n",
      "SELECT id,created,last_updated,time_posted,title,description,deleted,url,company_id,company_name,location,country,seniority,employment_type,salary,linkedin_job_id,industry FROM \"AwsDataCatalog\".\"julius-linkedin-v3-db\".\"202401\" WHERE (LOWER (title) LIKE '%administrative%services%manager%' OR LOWER (title) LIKE '%deputy%facilities%manager%' OR LOWER (title) LIKE '%bearings%design%engineer%' OR LOWER (title) LIKE '%blasting%technician%' OR LOWER (title) LIKE '%communications%manager%' OR LOWER (title) LIKE '%director%of%quality%and%operations%support%' OR LOWER (title) LIKE '%electrical%engineer%' OR LOWER (title) LIKE '%engineering%manager%' OR LOWER (title) LIKE '%freight%forwarder%' OR LOWER (title) LIKE '%heavy-lift%crane%operator%' OR LOWER (title) LIKE '%industrial%truck%operator%' OR LOWER (title) LIKE '%inspection%manager%' OR LOWER (title) LIKE '%installation%worker%' OR LOWER (title) LIKE '%maintenance%manager%' OR LOWER (title) LIKE '%metal%cutter%' OR LOWER (title) LIKE '%metal%refiner%' OR LOWER (title) LIKE '%millright%' OR LOWER (title) LIKE '%president%of%strategy%and%operations%' OR LOWER (title) LIKE '%production%supervisor%' OR LOWER (title) LIKE '%production%engineer%' OR LOWER (title) LIKE '%public%relationsr%specialist%' OR LOWER (title) LIKE '%purchaser%' OR LOWER (title) LIKE '%quality%assurance%engineer%' OR LOWER (title) LIKE '%quality%assurance%manager%' OR LOWER (title) LIKE '%quality%assurance%technician%' OR LOWER (title) LIKE '%research%engineer%' OR LOWER (title) LIKE '%specialist%coating%technician%' OR LOWER (title) LIKE '%stocker%' OR LOWER (title) LIKE '%training%specialist%' OR LOWER (title) LIKE '%vice%president%of%operations%' OR LOWER (title) LIKE '%welding%machnist%') AND (LOWER (doc_description) LIKE '%wind%energy%' OR LOWER (doc_description) LIKE '%wind%power%' OR LOWER (doc_description) LIKE '%wind%project%' OR LOWER (doc_description) LIKE '%offshore%wind%') AND (LOWER (location) LIKE '%united%states' OR LOWER (country) LIKE '%united%states%')\n",
      "\n"
     ]
    }
   ],
   "source": [
    "# SELECT\n",
    "fields_linkedin = [\"id\", \"created\", \"last_updated\", \"time_posted\", \"title\",\n",
    "                   \"description\", \"deleted\",  \"url\", \"company_id\", \"company_name\",\n",
    "                   \"location\", \"country\", \"seniority\", \"employment_type\", \"salary\",\n",
    "                   \"linkedin_job_id\", \"industry\"]\n",
    "\n",
    "select_clause_linkedin = ','.join(fields_linkedin)\n",
    "\n",
    "\n",
    "# FROM: Source details\n",
    "catalog = \"AwsDataCatalog\"\n",
    "database_linkedin = \"julius-linkedin-v3-db\"\n",
    "table_linkedin = \"202401\"\n",
    "source = f'\"{catalog}\".\"{database_linkedin}\".\"{table_linkedin}\"'\n",
    "\n",
    "# WHERE: conditions\n",
    "job_title_column_name_linkedin = 'title'\n",
    "likeness_condition_linkedin = ' OR '.join([f\"LOWER ({job_title_column_name_linkedin}) LIKE '%{job_title}%'\" for job_title in job_titles_norm])\n",
    "table = \"202401\"\n",
    "table_formatted = f'\"{table}\"'\n",
    "\n",
    "# Conditions\n",
    "condition_location = \"LOWER (location) LIKE '%united%states' OR LOWER (country) LIKE '%united%states%'\"\n",
    "\n",
    "# No change\n",
    "source_linkedin = \"linkedin\"\n",
    "# What is  being quered \n",
    "concept = \"jobposts\"\n",
    "\n",
    "\n",
    "external_location = f\"s3://{project}/{sub_project}\"\n",
    "# Specify the correct filtering criteria\n",
    "location = \"usa\"\n",
    "time = \"forever\"\n",
    "obs = \"windindescription\"\n",
    "output_linkedin = f\"{concept}_{source_linkedin}_{sub_project}_{location}_{time}_{obs}\"\n",
    "\n",
    "\n",
    "# SQL query for indeed\n",
    "query_linkedin = f'SELECT {select_clause_linkedin} FROM {source} WHERE ({likeness_condition_linkedin}) AND ({condition_description}) AND ({condition_location})'\n",
    "\n",
    "\n",
    "# Query for indeed\n",
    "query_linkedin_parquet = f\"\"\"CREATE TABLE {output_linkedin}\n",
    "WITH (\n",
    "      format = 'Parquet',\n",
    "      parquet_compression = 'SNAPPY',\n",
    "      external_location = '{external_location}'\n",
    ") AS\n",
    "{query_linkedin}\n",
    "\"\"\"\n",
    "\n",
    "print(query_linkedin_parquet)"
   ]
  }
 ],
 "metadata": {
  "kernelspec": {
   "display_name": "Python 3 (ipykernel)",
   "language": "python",
   "name": "python3"
  },
  "language_info": {
   "codemirror_mode": {
    "name": "ipython",
    "version": 3
   },
   "file_extension": ".py",
   "mimetype": "text/x-python",
   "name": "python",
   "nbconvert_exporter": "python",
   "pygments_lexer": "ipython3",
   "version": "3.10.14"
  }
 },
 "nbformat": 4,
 "nbformat_minor": 5
}
